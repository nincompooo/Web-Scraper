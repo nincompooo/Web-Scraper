{
 "cells": [
  {
   "cell_type": "code",
   "execution_count": null,
   "id": "357d4c10-d2eb-4c2d-b121-e88bae0b2627",
   "metadata": {
    "tags": []
   },
   "outputs": [],
   "source": [
    "import re\n",
    "import time\n",
    "import smtplib\n",
    "import requests\n",
    "from datetime import datetime\n",
    "from bs4 import BeautifulSoup\n",
    "\n",
    "def stock_check(content):\n",
    "    \"\"\"Checks url content for 'sold out' status\"\"\"\n",
    "    soup = BeautifulSoup(content, \"html.parser\")\n",
    "    stock = soup.find(\"div\", class_=\"product-mark sold-out\")\n",
    "    return stock is not None  # Returns True if 'sold out' div is found\n",
    "\n",
    "def send_email(address, password, message):\n",
    "    \"\"\"Send an e-mail to yourself!\"\"\"\n",
    "    server = smtplib.SMTP(\"smtp.gmail.com\", 587)\n",
    "    server.ehlo()\n",
    "    server.starttls()\n",
    "    server.login(address, password)\n",
    "    server.sendmail(address, address, message)\n",
    "    server.quit()\n",
    "\n",
    "def stock_check_listener(url, address, password, run_hours):\n",
    "    \"\"\"Periodically checks stock information.\"\"\"\n",
    "    listen = True\n",
    "    start = datetime.now()\n",
    "\n",
    "    while listen:\n",
    "        now = datetime.now()\n",
    "        # Make the request each time to get the latest content\n",
    "        response = requests.get(url, headers=headers)\n",
    "        \n",
    "        if stock_check(response.content):\n",
    "            print(str(now) + \": Not in stock.\")\n",
    "        else:\n",
    "            message = str(now) + \": NOW IN STOCK!\"\n",
    "            print(message)\n",
    "            send_email(address, password, message)\n",
    "            listen = False\n",
    "\n",
    "        duration = now - start\n",
    "        seconds = duration.total_seconds()\n",
    "        hours = int(seconds / 3600)\n",
    "        if hours >= run_hours:\n",
    "            print(\"Finished.\")\n",
    "            listen = False\n",
    "\n",
    "        time.sleep(30 * 60)  # Wait 30 minutes before checking again\n",
    "\n",
    "if __name__ == \"__main__\":\n",
    "    # page = \"https://www.twinelle.com/shop/twinelle/p/salmon-anime-printed-top\"\n",
    "    page = \"https://www.twinelle.com/shop/twinelle/p/mystery-style-bundle\"\n",
    "    headers = {\n",
    "        'User-Agent': 'Mozilla/5.0 (Windows NT 6.1; WOW64) AppleWebKit/537.36 (KHTML, like Gecko) Chrome/46.0.2490.80 Safari/537.36',\n",
    "        'Content-Type': 'text/html'\n",
    "    }\n",
    "\n",
    "    # Run listener to stream stock checks.\n",
    "    address = \"xxxx@gmail.com\"  # your email\n",
    "    password = \"xxxx\"  # your email password\n",
    "    stock_check_listener(url=page, address=address, password=password, run_hours=1)\n"
   ]
  },
  {
   "cell_type": "code",
   "execution_count": null,
   "id": "a6437ab1-1355-4437-bb58-e881684d230c",
   "metadata": {},
   "outputs": [],
   "source": []
  }
 ],
 "metadata": {
  "kernelspec": {
   "display_name": "Python 3 (ipykernel)",
   "language": "python",
   "name": "python3"
  },
  "language_info": {
   "codemirror_mode": {
    "name": "ipython",
    "version": 3
   },
   "file_extension": ".py",
   "mimetype": "text/x-python",
   "name": "python",
   "nbconvert_exporter": "python",
   "pygments_lexer": "ipython3",
   "version": "3.11.5"
  }
 },
 "nbformat": 4,
 "nbformat_minor": 5
}
